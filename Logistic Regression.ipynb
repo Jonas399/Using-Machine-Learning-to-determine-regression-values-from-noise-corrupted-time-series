{
 "cells": [
  {
   "cell_type": "code",
   "execution_count": 1,
   "id": "63cce9eb",
   "metadata": {},
   "outputs": [
    {
     "name": "stdout",
     "output_type": "stream",
     "text": [
      "INFO:tensorflow:Enabling eager execution\n",
      "INFO:tensorflow:Enabling v2 tensorshape\n",
      "INFO:tensorflow:Enabling resource variables\n",
      "INFO:tensorflow:Enabling tensor equality\n",
      "INFO:tensorflow:Enabling control flow v2\n"
     ]
    }
   ],
   "source": [
    "#Tensorflow\n",
    "import tensorflow as tf\n",
    "from tensorflow.keras import Sequential\n",
    "from tensorflow import keras\n",
    "from tensorflow.keras.models import Model\n",
    "from tensorflow.keras.models import load_model\n",
    "from tensorflow.keras import layers, activations\n",
    "from tensorflow.keras.layers import *\n",
    "from tensorflow.keras.optimizers import *\n",
    "\n",
    "#Pandas and numpy for data formats\n",
    "import pandas as pd\n",
    "import numpy as np\n",
    "\n",
    "\n",
    "#glob for data import\n",
    "import glob\n",
    "import random\n",
    "#PyTorch\n",
    "import torch\n",
    "import torch.nn as nn\n",
    "#SK Learn\n",
    "import sklearn as skl\n",
    "from sklearn.model_selection import train_test_split\n",
    "from sklearn import preprocessing\n",
    "from sklearn.preprocessing import StandardScaler\n",
    "#from sklearn.utils import shuffle\n",
    "import math\n",
    "import sys\n",
    "#MatPlotLib\n",
    "import matplotlib.pyplot as plt\n",
    "\n",
    "from models import simpleRegression\n",
    "from models import feedForward, sequentialModel, sequentialDropout, lstmModel, cnnModel, cnnModelFilters, scoringSystem\n",
    "\n",
    "#import functions\n",
    "from dataImport import importTrainingData, importParamsData, importTestData, importTrainParameter, importTargetParameter, importEvalParameter\n",
    "from preprocessing import preprocessData, createTrainTensors, createParamsTensors, preprocessParams, rescaleData, preprocessParameters"
   ]
  },
  {
   "cell_type": "code",
   "execution_count": 2,
   "id": "dfd7ce10",
   "metadata": {},
   "outputs": [],
   "source": [
    "#importTrainData()\n",
    "train_data = np.load(\"../train_40000.npy\")\n",
    "params_data = np.load(\"../train_target_40000.npy\")\n",
    "train_parameter = np.load(\"../train_parameter_40000.npy\")\n",
    "#\n",
    "validation_data = np.load(\"../val_train_40000.npy\")\n",
    "validation_params = np.load(\"../val_target_40000.npy\")\n",
    "validation_parameter = np.load(\"../val_parameter_40000.npy\")"
   ]
  },
  {
   "cell_type": "code",
   "execution_count": 3,
   "id": "396745fd",
   "metadata": {},
   "outputs": [],
   "source": [
    "mean_value_target = np.mean(params_data)\n",
    "standard_deviation_target = np.std(params_data)\n",
    "\n",
    "mean_value = np.mean(train_data)\n",
    "standard_deviation = np.std(train_data)\n",
    "measurements_to_remove = 30"
   ]
  },
  {
   "cell_type": "code",
   "execution_count": 4,
   "id": "725e917b",
   "metadata": {},
   "outputs": [],
   "source": [
    "median_train = False\n",
    "replaceValuesBiggerOne_train=False\n",
    "replaceFirstXValues_train=False\n",
    "removeFirstXValues_train=True\n",
    "normalizeData_train=False\n",
    "zScore_train=True"
   ]
  },
  {
   "cell_type": "code",
   "execution_count": 5,
   "id": "700b7853",
   "metadata": {},
   "outputs": [],
   "source": [
    "train_data = preprocessData(train_data,\n",
    "                          median=median_train,\n",
    "                          replaceValuesBiggerOne = replaceValuesBiggerOne_train,\n",
    "                          replaceFirstXValues = replaceFirstXValues_train,\n",
    "                          removeFirstXValues = removeFirstXValues_train,\n",
    "                          normalizeData = normalizeData_train,\n",
    "                          zScore = zScore_train,\n",
    "                          zScore_mean = mean_value,\n",
    "                          zScore_sd = standard_deviation,\n",
    "                          number_to_remove = measurements_to_remove)\n",
    "\n",
    "train_target = preprocessData(params_data,\n",
    "                          median=False,\n",
    "                          replaceValuesBiggerOne=False,\n",
    "                          replaceFirstXValues=False,\n",
    "                          removeFirstXValues=False,\n",
    "                          normalizeData=False,\n",
    "                          zScore=False,\n",
    "                          zScore_mean=mean_value_target,\n",
    "                          zScore_sd=standard_deviation_target,\n",
    "                          number_to_remove=measurements_to_remove)\n",
    "\n",
    "validation_data = preprocessData(validation_data,\n",
    "                          median = median_train,\n",
    "                          replaceValuesBiggerOne = replaceValuesBiggerOne_train,\n",
    "                          replaceFirstXValues = replaceFirstXValues_train,\n",
    "                          removeFirstXValues = removeFirstXValues_train,\n",
    "                          normalizeData = normalizeData_train,\n",
    "                          zScore = zScore_train,\n",
    "                          zScore_mean = mean_value,\n",
    "                          zScore_sd = standard_deviation,\n",
    "                          number_to_remove = measurements_to_remove)\n",
    "\n",
    "validation_target = preprocessData(validation_params,\n",
    "                          median=False,\n",
    "                          replaceValuesBiggerOne=False,\n",
    "                          replaceFirstXValues=False,\n",
    "                          removeFirstXValues=False,\n",
    "                          normalizeData=False,\n",
    "                          zScore=False,\n",
    "                          zScore_mean=mean_value_target,\n",
    "                          zScore_sd=standard_deviation_target,\n",
    "                          number_to_remove=measurements_to_remove)"
   ]
  },
  {
   "cell_type": "code",
   "execution_count": 6,
   "id": "2d03ebcf",
   "metadata": {},
   "outputs": [
    {
     "name": "stdout",
     "output_type": "stream",
     "text": [
      "Rescaling targets with max = 0.6713607926990712\n"
     ]
    }
   ],
   "source": [
    "def scaleToMaxToOne(dat, min, max):\n",
    "    scaled_dat = dat / max\n",
    "    return scaled_dat\n",
    "\n",
    "def unscaleMaxToOne(scaled_dat, min, max):\n",
    "    unscaled_dat = scaled_dat * max\n",
    "    return unscaled_dat\n",
    "\n",
    "min_target = np.min(train_target) \n",
    "max_target = np.max(train_target)\n",
    "print(f\"Rescaling targets with max = {max_target}\")\n",
    "train_target = scaleToMaxToOne(train_target, min_target, max_target)\n",
    "val_target = scaleToMaxToOne(validation_target, min_target, max_target)\n"
   ]
  },
  {
   "cell_type": "code",
   "execution_count": 7,
   "id": "ce44a896",
   "metadata": {},
   "outputs": [],
   "source": [
    "number_of_measurements = 300\n",
    "if removeFirstXValues_train == True:\n",
    "    number_of_measurements = 300 - measurements_to_remove    \n",
    "    \n",
    "#reshaping train data\n",
    "if type(train_data) != np.ndarray:\n",
    "    train_data = train_data.to_numpy().reshape(-1, 55, number_of_measurements)\n",
    "else:\n",
    "    train_data = train_data.reshape(-1, 55, number_of_measurements)\n",
    "\n",
    "#reshaping target data\n",
    "if type(params_data) != np.ndarray:\n",
    "    params_data = params_data.to_numpy()\n",
    "\n",
    "#reshaping val data\n",
    "if type(validation_data) != np.ndarray:\n",
    "    validation_data = validation_data.to_numpy().reshape(-1, 55, number_of_measurements)\n",
    "else:    \n",
    "    validation_data = validation_data.reshape(-1, 55, number_of_measurements)\n",
    "\n",
    "#reshaping val target\n",
    "if type(validation_params) != np.ndarray:\n",
    "    validation_params = validation_params.to_numpy()\n"
   ]
  },
  {
   "cell_type": "code",
   "execution_count": 8,
   "id": "0e81aa13",
   "metadata": {},
   "outputs": [],
   "source": [
    "prevent_overfitting = keras.callbacks.EarlyStopping(monitor=\"val_loss\", patience = 20, restore_best_weights=True)\n",
    "reduce_lr = keras.callbacks.ReduceLROnPlateau(monitor='val_loss', patience=10, min_delta=0.0001)"
   ]
  },
  {
   "cell_type": "code",
   "execution_count": 9,
   "id": "36e3886f",
   "metadata": {},
   "outputs": [],
   "source": [
    "def logistic_regression(av = 'selu'):\n",
    "    first_input = Input(shape=(55, number_of_measurements))\n",
    "    flatten_layer = tf.keras.layers.Flatten()(first_input)\n",
    "    output = Dense(55)(flatten_layer)\n",
    "\n",
    "\n",
    "    model = Model(inputs=first_input, outputs=output)\n",
    "    optim = keras.optimizers.Adam(learning_rate=0.0001)\n",
    "    \n",
    "    model.compile(optimizer=optim,\n",
    "                  loss='Huber')\n",
    "        \n",
    "    return model\n",
    "\n",
    "model = logistic_regression()\n",
    "model2 = logistic_regression()\n",
    "model3 = logistic_regression()"
   ]
  },
  {
   "cell_type": "markdown",
   "id": "4406be5e",
   "metadata": {},
   "source": [
    "# Model 1"
   ]
  },
  {
   "cell_type": "code",
   "execution_count": 10,
   "id": "f4fda86d",
   "metadata": {},
   "outputs": [
    {
     "name": "stdout",
     "output_type": "stream",
     "text": [
      "Epoch 1/1000\n",
      "1000/1000 [==============================] - 4s 3ms/step - loss: 0.0481 - val_loss: 0.0350\n",
      "Epoch 2/1000\n",
      "1000/1000 [==============================] - 2s 2ms/step - loss: 0.0173 - val_loss: 0.0254\n",
      "Epoch 3/1000\n",
      "1000/1000 [==============================] - 2s 2ms/step - loss: 0.0085 - val_loss: 0.0215\n",
      "Epoch 4/1000\n",
      "1000/1000 [==============================] - 2s 2ms/step - loss: 0.0051 - val_loss: 0.0174\n",
      "Epoch 5/1000\n",
      "1000/1000 [==============================] - 2s 2ms/step - loss: 0.0034 - val_loss: 0.0147\n",
      "Epoch 6/1000\n",
      "1000/1000 [==============================] - 2s 2ms/step - loss: 0.0024 - val_loss: 0.0135\n",
      "Epoch 7/1000\n",
      "1000/1000 [==============================] - 2s 2ms/step - loss: 0.0019 - val_loss: 0.0133\n",
      "Epoch 8/1000\n",
      "1000/1000 [==============================] - 2s 2ms/step - loss: 0.0016 - val_loss: 0.0130\n",
      "Epoch 9/1000\n",
      "1000/1000 [==============================] - 2s 2ms/step - loss: 0.0015 - val_loss: 0.0116\n",
      "Epoch 10/1000\n",
      "1000/1000 [==============================] - 2s 2ms/step - loss: 0.0014 - val_loss: 0.0108\n",
      "Epoch 11/1000\n",
      "1000/1000 [==============================] - 2s 2ms/step - loss: 0.0013 - val_loss: 0.0121\n",
      "Epoch 12/1000\n",
      "1000/1000 [==============================] - 2s 2ms/step - loss: 0.0013 - val_loss: 0.0115\n",
      "Epoch 13/1000\n",
      "1000/1000 [==============================] - 2s 2ms/step - loss: 0.0013 - val_loss: 0.0119\n",
      "Epoch 14/1000\n",
      "1000/1000 [==============================] - 2s 2ms/step - loss: 0.0013 - val_loss: 0.0111\n",
      "Epoch 15/1000\n",
      "1000/1000 [==============================] - 2s 2ms/step - loss: 0.0012 - val_loss: 0.0123\n",
      "Epoch 16/1000\n",
      "1000/1000 [==============================] - 2s 2ms/step - loss: 0.0013 - val_loss: 0.0108\n",
      "Epoch 17/1000\n",
      "1000/1000 [==============================] - 2s 2ms/step - loss: 0.0012 - val_loss: 0.0124\n",
      "Epoch 18/1000\n",
      "1000/1000 [==============================] - 2s 2ms/step - loss: 0.0012 - val_loss: 0.0104\n",
      "Epoch 19/1000\n",
      "1000/1000 [==============================] - 2s 2ms/step - loss: 0.0012 - val_loss: 0.0111\n",
      "Epoch 20/1000\n",
      "1000/1000 [==============================] - 2s 2ms/step - loss: 0.0012 - val_loss: 0.0111\n",
      "Epoch 21/1000\n",
      "1000/1000 [==============================] - 2s 2ms/step - loss: 0.0012 - val_loss: 0.0106\n",
      "Epoch 22/1000\n",
      "1000/1000 [==============================] - 2s 2ms/step - loss: 0.0011 - val_loss: 0.0100\n",
      "Epoch 23/1000\n",
      "1000/1000 [==============================] - 2s 2ms/step - loss: 0.0012 - val_loss: 0.0088\n",
      "Epoch 24/1000\n",
      "1000/1000 [==============================] - 2s 2ms/step - loss: 0.0012 - val_loss: 0.0098\n",
      "Epoch 25/1000\n",
      "1000/1000 [==============================] - 2s 2ms/step - loss: 0.0011 - val_loss: 0.0109\n",
      "Epoch 26/1000\n",
      "1000/1000 [==============================] - 2s 2ms/step - loss: 0.0011 - val_loss: 0.0145\n",
      "Epoch 27/1000\n",
      "1000/1000 [==============================] - 2s 2ms/step - loss: 0.0012 - val_loss: 0.0122\n",
      "Epoch 28/1000\n",
      "1000/1000 [==============================] - 2s 2ms/step - loss: 0.0011 - val_loss: 0.0100\n",
      "Epoch 29/1000\n",
      "1000/1000 [==============================] - 2s 2ms/step - loss: 0.0012 - val_loss: 0.0103\n",
      "Epoch 30/1000\n",
      "1000/1000 [==============================] - 2s 2ms/step - loss: 0.0012 - val_loss: 0.0109\n",
      "Epoch 31/1000\n",
      "1000/1000 [==============================] - 2s 2ms/step - loss: 0.0012 - val_loss: 0.0104\n",
      "Epoch 32/1000\n",
      "1000/1000 [==============================] - 2s 2ms/step - loss: 0.0011 - val_loss: 0.0118\n",
      "Epoch 33/1000\n",
      "1000/1000 [==============================] - 2s 2ms/step - loss: 0.0011 - val_loss: 0.0122\n",
      "Epoch 34/1000\n",
      "1000/1000 [==============================] - 2s 2ms/step - loss: 9.1959e-04 - val_loss: 0.0116\n",
      "Epoch 35/1000\n",
      "1000/1000 [==============================] - 2s 2ms/step - loss: 4.7052e-04 - val_loss: 0.0112\n",
      "Epoch 36/1000\n",
      "1000/1000 [==============================] - 2s 2ms/step - loss: 2.7489e-04 - val_loss: 0.0111\n",
      "Epoch 37/1000\n",
      "1000/1000 [==============================] - 2s 2ms/step - loss: 1.8958e-04 - val_loss: 0.0113\n",
      "Epoch 38/1000\n",
      "1000/1000 [==============================] - 3s 3ms/step - loss: 1.5365e-04 - val_loss: 0.0107\n",
      "Epoch 39/1000\n",
      "1000/1000 [==============================] - 2s 2ms/step - loss: 1.2834e-04 - val_loss: 0.0110\n",
      "Epoch 40/1000\n",
      "1000/1000 [==============================] - 2s 2ms/step - loss: 1.2261e-04 - val_loss: 0.0105\n",
      "Epoch 41/1000\n",
      "1000/1000 [==============================] - 2s 2ms/step - loss: 1.1188e-04 - val_loss: 0.0110\n",
      "Epoch 42/1000\n",
      "1000/1000 [==============================] - 2s 2ms/step - loss: 1.1279e-04 - val_loss: 0.0107\n",
      "Epoch 43/1000\n",
      "1000/1000 [==============================] - 2s 2ms/step - loss: 1.1125e-04 - val_loss: 0.0101\n"
     ]
    }
   ],
   "source": [
    "history_test = model.fit(train_data,\n",
    "                    train_target,\n",
    "                    batch_size=32,\n",
    "                    epochs = 1000,\n",
    "                    #validation_data= (validation_data, validation_params),\n",
    "                    validation_split = 0.2,\n",
    "                    shuffle = True,\n",
    "                    callbacks=[prevent_overfitting, reduce_lr])"
   ]
  },
  {
   "cell_type": "code",
   "execution_count": 11,
   "id": "335fe535",
   "metadata": {},
   "outputs": [
    {
     "name": "stdout",
     "output_type": "stream",
     "text": [
      "tf.Tensor(550000.0, shape=(), dtype=float64)\n",
      "tf.Tensor(6792.37294519486, shape=(), dtype=float64)\n"
     ]
    }
   ],
   "source": [
    "pred = model.predict(validation_data)\n",
    "#pred2 = pred2 * standard_deviation_target + mean_value_target \n",
    "#score2 = scoringSystem(validation_params, pred2)\n",
    "\n",
    "pred_final = unscaleMaxToOne(pred, min_target, max_target)\n",
    "score = scoringSystem(validation_params, pred_final)\n",
    "print(score)"
   ]
  },
  {
   "cell_type": "code",
   "execution_count": 12,
   "id": "52af9084",
   "metadata": {},
   "outputs": [],
   "source": [
    "last_five_idx = len(history_test.history[\"val_loss\"])-5\n",
    "val_loss_1 = sum(history_test.history[\"val_loss\"][last_five_idx:])/5"
   ]
  },
  {
   "cell_type": "code",
   "execution_count": 26,
   "id": "d52682c5",
   "metadata": {},
   "outputs": [],
   "source": [
    "last_five_idx = len(history_test.history[\"loss\"])-5\n",
    "train_loss_1 = sum(history_test.history[\"loss\"][last_five_idx:])/5"
   ]
  },
  {
   "cell_type": "markdown",
   "id": "d1226bdc",
   "metadata": {},
   "source": [
    "# Model 2"
   ]
  },
  {
   "cell_type": "code",
   "execution_count": 14,
   "id": "19d2cdc1",
   "metadata": {},
   "outputs": [
    {
     "name": "stdout",
     "output_type": "stream",
     "text": [
      "Epoch 1/1000\n",
      "1000/1000 [==============================] - 3s 3ms/step - loss: 0.0474 - val_loss: 0.0344\n",
      "Epoch 2/1000\n",
      "1000/1000 [==============================] - 2s 2ms/step - loss: 0.0169 - val_loss: 0.0259\n",
      "Epoch 3/1000\n",
      "1000/1000 [==============================] - 2s 2ms/step - loss: 0.0085 - val_loss: 0.0211\n",
      "Epoch 4/1000\n",
      "1000/1000 [==============================] - 2s 2ms/step - loss: 0.0051 - val_loss: 0.0181\n",
      "Epoch 5/1000\n",
      "1000/1000 [==============================] - 2s 2ms/step - loss: 0.0033 - val_loss: 0.0162\n",
      "Epoch 6/1000\n",
      "1000/1000 [==============================] - 2s 2ms/step - loss: 0.0024 - val_loss: 0.0145\n",
      "Epoch 7/1000\n",
      "1000/1000 [==============================] - 2s 2ms/step - loss: 0.0019 - val_loss: 0.0126\n",
      "Epoch 8/1000\n",
      "1000/1000 [==============================] - 2s 2ms/step - loss: 0.0016 - val_loss: 0.0126\n",
      "Epoch 9/1000\n",
      "1000/1000 [==============================] - 2s 2ms/step - loss: 0.0015 - val_loss: 0.0138\n",
      "Epoch 10/1000\n",
      "1000/1000 [==============================] - 2s 2ms/step - loss: 0.0014 - val_loss: 0.0111\n",
      "Epoch 11/1000\n",
      "1000/1000 [==============================] - 2s 2ms/step - loss: 0.0014 - val_loss: 0.0119\n",
      "Epoch 12/1000\n",
      "1000/1000 [==============================] - 2s 2ms/step - loss: 0.0013 - val_loss: 0.0108\n",
      "Epoch 13/1000\n",
      "1000/1000 [==============================] - 2s 2ms/step - loss: 0.0013 - val_loss: 0.0134\n",
      "Epoch 14/1000\n",
      "1000/1000 [==============================] - 2s 2ms/step - loss: 0.0013 - val_loss: 0.0106\n",
      "Epoch 15/1000\n",
      "1000/1000 [==============================] - 2s 2ms/step - loss: 0.0012 - val_loss: 0.0119\n",
      "Epoch 16/1000\n",
      "1000/1000 [==============================] - 2s 2ms/step - loss: 0.0012 - val_loss: 0.0121\n",
      "Epoch 17/1000\n",
      "1000/1000 [==============================] - 2s 2ms/step - loss: 0.0012 - val_loss: 0.0117\n",
      "Epoch 18/1000\n",
      "1000/1000 [==============================] - 2s 2ms/step - loss: 0.0012 - val_loss: 0.0118\n",
      "Epoch 19/1000\n",
      "1000/1000 [==============================] - 2s 2ms/step - loss: 0.0012 - val_loss: 0.0139\n",
      "Epoch 20/1000\n",
      "1000/1000 [==============================] - 2s 2ms/step - loss: 0.0012 - val_loss: 0.0118\n",
      "Epoch 21/1000\n",
      "1000/1000 [==============================] - 2s 2ms/step - loss: 0.0012 - val_loss: 0.0121\n",
      "Epoch 22/1000\n",
      "1000/1000 [==============================] - 2s 2ms/step - loss: 0.0011 - val_loss: 0.0108- \n",
      "Epoch 23/1000\n",
      "1000/1000 [==============================] - 2s 2ms/step - loss: 0.0011 - val_loss: 0.0139\n",
      "Epoch 24/1000\n",
      "1000/1000 [==============================] - 2s 2ms/step - loss: 0.0012 - val_loss: 0.0100\n",
      "Epoch 25/1000\n",
      "1000/1000 [==============================] - 2s 2ms/step - loss: 0.0011 - val_loss: 0.0111\n",
      "Epoch 26/1000\n",
      "1000/1000 [==============================] - 2s 2ms/step - loss: 0.0012 - val_loss: 0.0103\n",
      "Epoch 27/1000\n",
      "1000/1000 [==============================] - 3s 3ms/step - loss: 0.0012 - val_loss: 0.0087\n",
      "Epoch 28/1000\n",
      "1000/1000 [==============================] - 3s 3ms/step - loss: 0.0012 - val_loss: 0.0119\n",
      "Epoch 29/1000\n",
      "1000/1000 [==============================] - 2s 2ms/step - loss: 0.0011 - val_loss: 0.0094\n",
      "Epoch 30/1000\n",
      "1000/1000 [==============================] - 2s 2ms/step - loss: 0.0012 - val_loss: 0.0114\n",
      "Epoch 31/1000\n",
      "1000/1000 [==============================] - 2s 2ms/step - loss: 0.0011 - val_loss: 0.0123\n",
      "Epoch 32/1000\n",
      "1000/1000 [==============================] - 2s 2ms/step - loss: 0.0011 - val_loss: 0.0134\n",
      "Epoch 33/1000\n",
      "1000/1000 [==============================] - 2s 2ms/step - loss: 0.0012 - val_loss: 0.0110\n",
      "Epoch 34/1000\n",
      "1000/1000 [==============================] - 2s 2ms/step - loss: 0.0011 - val_loss: 0.0098\n",
      "Epoch 35/1000\n",
      "1000/1000 [==============================] - 2s 2ms/step - loss: 0.0011 - val_loss: 0.0101\n",
      "Epoch 36/1000\n",
      "1000/1000 [==============================] - 2s 2ms/step - loss: 0.0012 - val_loss: 0.0112\n",
      "Epoch 37/1000\n",
      "1000/1000 [==============================] - 2s 2ms/step - loss: 0.0011 - val_loss: 0.0130\n",
      "Epoch 38/1000\n",
      "1000/1000 [==============================] - 2s 2ms/step - loss: 8.9114e-04 - val_loss: 0.0121\n",
      "Epoch 39/1000\n",
      "1000/1000 [==============================] - 2s 2ms/step - loss: 4.6353e-04 - val_loss: 0.0119\n",
      "Epoch 40/1000\n",
      "1000/1000 [==============================] - 2s 2ms/step - loss: 2.7464e-04 - val_loss: 0.0114\n",
      "Epoch 41/1000\n",
      "1000/1000 [==============================] - 2s 2ms/step - loss: 1.9295e-04 - val_loss: 0.0113\n",
      "Epoch 42/1000\n",
      "1000/1000 [==============================] - 2s 2ms/step - loss: 1.4595e-04 - val_loss: 0.0115\n",
      "Epoch 43/1000\n",
      "1000/1000 [==============================] - 2s 2ms/step - loss: 1.2490e-04 - val_loss: 0.0110\n",
      "Epoch 44/1000\n",
      "1000/1000 [==============================] - 2s 2ms/step - loss: 1.1066e-04 - val_loss: 0.0110\n",
      "Epoch 45/1000\n",
      "1000/1000 [==============================] - 2s 2ms/step - loss: 1.1642e-04 - val_loss: 0.0111\n",
      "Epoch 46/1000\n",
      "1000/1000 [==============================] - 2s 2ms/step - loss: 1.0762e-04 - val_loss: 0.0110\n",
      "Epoch 47/1000\n",
      "1000/1000 [==============================] - 2s 2ms/step - loss: 1.0256e-04 - val_loss: 0.0110\n"
     ]
    }
   ],
   "source": [
    "history_test_2 = model2.fit(train_data,\n",
    "                    train_target,\n",
    "                    batch_size=32,\n",
    "                    epochs = 1000,\n",
    "                    #validation_data= (validation_data, validation_params),\n",
    "                    validation_split = 0.2,\n",
    "                    shuffle = True,\n",
    "                    callbacks=[prevent_overfitting, reduce_lr])"
   ]
  },
  {
   "cell_type": "code",
   "execution_count": 15,
   "id": "6911eed1",
   "metadata": {},
   "outputs": [
    {
     "name": "stdout",
     "output_type": "stream",
     "text": [
      "tf.Tensor(550000.0, shape=(), dtype=float64)\n",
      "tf.Tensor(7203.56721965812, shape=(), dtype=float64)\n"
     ]
    }
   ],
   "source": [
    "pred2 = model2.predict(validation_data)\n",
    "#pred2 = pred2 * standard_deviation_target + mean_value_target \n",
    "#score2 = scoringSystem(validation_params, pred2)\n",
    "\n",
    "pred_final2 = unscaleMaxToOne(pred2, min_target, max_target)\n",
    "score2 = scoringSystem(validation_params, pred_final2)\n",
    "print(score2)"
   ]
  },
  {
   "cell_type": "code",
   "execution_count": 27,
   "id": "90206152",
   "metadata": {},
   "outputs": [],
   "source": [
    "last_five_idx_2 = len(history_test_2.history[\"val_loss\"])-5\n",
    "val_loss_2 = sum(history_test_2.history[\"val_loss\"][last_five_idx_2:])/5\n",
    "\n",
    "last_five_idx = len(history_test_2.history[\"loss\"])-5\n",
    "train_loss_2 = sum(history_test_2.history[\"loss\"][last_five_idx:])/5"
   ]
  },
  {
   "cell_type": "markdown",
   "id": "8b0865e4",
   "metadata": {},
   "source": [
    "# Model 3"
   ]
  },
  {
   "cell_type": "code",
   "execution_count": 17,
   "id": "781bbd06",
   "metadata": {},
   "outputs": [
    {
     "name": "stdout",
     "output_type": "stream",
     "text": [
      "Epoch 1/1000\n",
      "1000/1000 [==============================] - 2s 2ms/step - loss: 0.0479 - val_loss: 0.0352\n",
      "Epoch 2/1000\n",
      "1000/1000 [==============================] - 2s 2ms/step - loss: 0.0170 - val_loss: 0.0255\n",
      "Epoch 3/1000\n",
      "1000/1000 [==============================] - 2s 2ms/step - loss: 0.0086 - val_loss: 0.0212\n",
      "Epoch 4/1000\n",
      "1000/1000 [==============================] - 2s 2ms/step - loss: 0.0050 - val_loss: 0.0185\n",
      "Epoch 5/1000\n",
      "1000/1000 [==============================] - 2s 2ms/step - loss: 0.0033 - val_loss: 0.0166\n",
      "Epoch 6/1000\n",
      "1000/1000 [==============================] - 2s 2ms/step - loss: 0.0024 - val_loss: 0.0141\n",
      "Epoch 7/1000\n",
      "1000/1000 [==============================] - 2s 2ms/step - loss: 0.0019 - val_loss: 0.0141\n",
      "Epoch 8/1000\n",
      "1000/1000 [==============================] - 2s 2ms/step - loss: 0.0016 - val_loss: 0.0131\n",
      "Epoch 9/1000\n",
      "1000/1000 [==============================] - 2s 2ms/step - loss: 0.0015 - val_loss: 0.0134\n",
      "Epoch 10/1000\n",
      "1000/1000 [==============================] - 2s 2ms/step - loss: 0.0014 - val_loss: 0.0103\n",
      "Epoch 11/1000\n",
      "1000/1000 [==============================] - 2s 2ms/step - loss: 0.0014 - val_loss: 0.0127\n",
      "Epoch 12/1000\n",
      "1000/1000 [==============================] - 2s 2ms/step - loss: 0.0013 - val_loss: 0.0099\n",
      "Epoch 13/1000\n",
      "1000/1000 [==============================] - 2s 2ms/step - loss: 0.0013 - val_loss: 0.0115\n",
      "Epoch 14/1000\n",
      "1000/1000 [==============================] - 2s 2ms/step - loss: 0.0013 - val_loss: 0.0120\n",
      "Epoch 15/1000\n",
      "1000/1000 [==============================] - 2s 2ms/step - loss: 0.0013 - val_loss: 0.0104\n",
      "Epoch 16/1000\n",
      "1000/1000 [==============================] - 2s 2ms/step - loss: 0.0012 - val_loss: 0.0102\n",
      "Epoch 17/1000\n",
      "1000/1000 [==============================] - 2s 2ms/step - loss: 0.0012 - val_loss: 0.0119\n",
      "Epoch 18/1000\n",
      "1000/1000 [==============================] - 2s 2ms/step - loss: 0.0012 - val_loss: 0.0119\n",
      "Epoch 19/1000\n",
      "1000/1000 [==============================] - 2s 2ms/step - loss: 0.0012 - val_loss: 0.0110\n",
      "Epoch 20/1000\n",
      "1000/1000 [==============================] - 2s 2ms/step - loss: 0.0012 - val_loss: 0.0102\n",
      "Epoch 21/1000\n",
      "1000/1000 [==============================] - 2s 2ms/step - loss: 0.0012 - val_loss: 0.0117\n",
      "Epoch 22/1000\n",
      "1000/1000 [==============================] - 2s 2ms/step - loss: 0.0012 - val_loss: 0.0094\n",
      "Epoch 23/1000\n",
      "1000/1000 [==============================] - 2s 2ms/step - loss: 0.0012 - val_loss: 0.0109\n",
      "Epoch 24/1000\n",
      "1000/1000 [==============================] - 2s 2ms/step - loss: 0.0012 - val_loss: 0.0118\n",
      "Epoch 25/1000\n",
      "1000/1000 [==============================] - 2s 2ms/step - loss: 0.0011 - val_loss: 0.0103\n",
      "Epoch 26/1000\n",
      "1000/1000 [==============================] - 2s 2ms/step - loss: 0.0011 - val_loss: 0.0092\n",
      "Epoch 27/1000\n",
      "1000/1000 [==============================] - 2s 2ms/step - loss: 0.0011 - val_loss: 0.0120\n",
      "Epoch 28/1000\n",
      "1000/1000 [==============================] - 2s 2ms/step - loss: 0.0011 - val_loss: 0.0111\n",
      "Epoch 29/1000\n",
      "1000/1000 [==============================] - 2s 2ms/step - loss: 0.0011 - val_loss: 0.0089\n",
      "Epoch 30/1000\n",
      "1000/1000 [==============================] - 2s 2ms/step - loss: 0.0012 - val_loss: 0.0103\n",
      "Epoch 31/1000\n",
      "1000/1000 [==============================] - 2s 2ms/step - loss: 0.0012 - val_loss: 0.0108\n",
      "Epoch 32/1000\n",
      "1000/1000 [==============================] - 2s 2ms/step - loss: 0.0012 - val_loss: 0.0134\n",
      "Epoch 33/1000\n",
      "1000/1000 [==============================] - 2s 2ms/step - loss: 0.0012 - val_loss: 0.0104\n",
      "Epoch 34/1000\n",
      "1000/1000 [==============================] - 2s 2ms/step - loss: 0.0011 - val_loss: 0.0121\n",
      "Epoch 35/1000\n",
      "1000/1000 [==============================] - 2s 2ms/step - loss: 0.0011 - val_loss: 0.0130\n",
      "Epoch 36/1000\n",
      "1000/1000 [==============================] - 2s 2ms/step - loss: 0.0011 - val_loss: 0.0077\n",
      "Epoch 37/1000\n",
      "1000/1000 [==============================] - 2s 2ms/step - loss: 0.0012 - val_loss: 0.0124\n",
      "Epoch 38/1000\n",
      "1000/1000 [==============================] - 2s 2ms/step - loss: 0.0012 - val_loss: 0.0082\n",
      "Epoch 39/1000\n",
      "1000/1000 [==============================] - 2s 2ms/step - loss: 0.0011 - val_loss: 0.0123\n",
      "Epoch 40/1000\n",
      "1000/1000 [==============================] - 2s 2ms/step - loss: 0.0011 - val_loss: 0.0112\n",
      "Epoch 41/1000\n",
      "1000/1000 [==============================] - 2s 2ms/step - loss: 0.0012 - val_loss: 0.0102\n",
      "Epoch 42/1000\n",
      "1000/1000 [==============================] - 2s 2ms/step - loss: 0.0011 - val_loss: 0.0130\n",
      "Epoch 43/1000\n",
      "1000/1000 [==============================] - 2s 2ms/step - loss: 0.0011 - val_loss: 0.0126\n",
      "Epoch 44/1000\n",
      "1000/1000 [==============================] - 2s 2ms/step - loss: 0.0011 - val_loss: 0.0109\n",
      "Epoch 45/1000\n",
      "1000/1000 [==============================] - 2s 2ms/step - loss: 0.0011 - val_loss: 0.0119\n",
      "Epoch 46/1000\n",
      "1000/1000 [==============================] - 2s 2ms/step - loss: 0.0012 - val_loss: 0.0097\n",
      "Epoch 47/1000\n",
      "1000/1000 [==============================] - 2s 2ms/step - loss: 8.1790e-04 - val_loss: 0.0104\n",
      "Epoch 48/1000\n",
      "1000/1000 [==============================] - 2s 2ms/step - loss: 4.2958e-04 - val_loss: 0.0101\n",
      "Epoch 49/1000\n",
      "1000/1000 [==============================] - 2s 2ms/step - loss: 2.5212e-04 - val_loss: 0.0095\n",
      "Epoch 50/1000\n",
      "1000/1000 [==============================] - 2s 2ms/step - loss: 1.6858e-04 - val_loss: 0.0099\n",
      "Epoch 51/1000\n",
      "1000/1000 [==============================] - 2s 2ms/step - loss: 1.3225e-04 - val_loss: 0.0098\n",
      "Epoch 52/1000\n",
      "1000/1000 [==============================] - 2s 2ms/step - loss: 1.1359e-04 - val_loss: 0.0099\n",
      "Epoch 53/1000\n",
      "1000/1000 [==============================] - 2s 2ms/step - loss: 1.1442e-04 - val_loss: 0.0106\n",
      "Epoch 54/1000\n",
      "1000/1000 [==============================] - 2s 2ms/step - loss: 9.9667e-05 - val_loss: 0.0097\n",
      "Epoch 55/1000\n",
      "1000/1000 [==============================] - 2s 2ms/step - loss: 9.9602e-05 - val_loss: 0.0101\n",
      "Epoch 56/1000\n",
      "1000/1000 [==============================] - 2s 2ms/step - loss: 9.8550e-05 - val_loss: 0.0115\n"
     ]
    }
   ],
   "source": [
    "history_test_3 = model3.fit(train_data,\n",
    "                    train_target,\n",
    "                    batch_size=32,\n",
    "                    epochs = 1000,\n",
    "                    #validation_data= (validation_data, validation_params),\n",
    "                    validation_split = 0.2,\n",
    "                    shuffle = True,\n",
    "                    callbacks=[prevent_overfitting, reduce_lr])"
   ]
  },
  {
   "cell_type": "code",
   "execution_count": 18,
   "id": "5d7b60ef",
   "metadata": {},
   "outputs": [
    {
     "name": "stdout",
     "output_type": "stream",
     "text": [
      "tf.Tensor(550000.0, shape=(), dtype=float64)\n",
      "tf.Tensor(6893.352905922416, shape=(), dtype=float64)\n"
     ]
    }
   ],
   "source": [
    "pred3 = model3.predict(validation_data)\n",
    "#pred2 = pred2 * standard_deviation_target + mean_value_target \n",
    "#score2 = scoringSystem(validation_params, pred2)\n",
    "\n",
    "pred_final3 = unscaleMaxToOne(pred3, min_target, max_target)\n",
    "score3 = scoringSystem(validation_params, pred_final3)\n",
    "print(score3)"
   ]
  },
  {
   "cell_type": "code",
   "execution_count": 28,
   "id": "3a904dc1",
   "metadata": {},
   "outputs": [],
   "source": [
    "last_five_idx_3 = len(history_test_3.history[\"val_loss\"])-5\n",
    "val_loss_3 = sum(history_test_3.history[\"val_loss\"][last_five_idx_3:])/5\n",
    "\n",
    "last_five_idx = len(history_test_3.history[\"loss\"])-5\n",
    "train_loss_3 = sum(history_test_3.history[\"loss\"][last_five_idx:])/5"
   ]
  },
  {
   "cell_type": "markdown",
   "id": "48ac5214",
   "metadata": {},
   "source": [
    "# Evaluation"
   ]
  },
  {
   "cell_type": "code",
   "execution_count": 30,
   "id": "c28c6cd4",
   "metadata": {},
   "outputs": [],
   "source": [
    "val_loss_final = (val_loss_1 + val_loss_2 + val_loss_3)/3\n",
    "train_loss_final = (train_loss_1 + train_loss_2 + train_loss_3)/3\n",
    "score_final = (score + score2 + score3)/3"
   ]
  },
  {
   "cell_type": "code",
   "execution_count": 31,
   "id": "7fe130f7",
   "metadata": {},
   "outputs": [
    {
     "name": "stdout",
     "output_type": "stream",
     "text": [
      "Final validation loss:  0.010679955904682478\n",
      "Final train loss:  0.00011614027947265034\n",
      "Final Score:  tf.Tensor(6963.097690258465, shape=(), dtype=float64)\n"
     ]
    }
   ],
   "source": [
    "print(\"Final validation loss: \", val_loss_final)\n",
    "print(\"Final train loss: \", train_loss_final)\n",
    "print(\"Final Score: \", score_final)"
   ]
  },
  {
   "cell_type": "markdown",
   "id": "1be4c4ce",
   "metadata": {},
   "source": [
    "# test"
   ]
  },
  {
   "cell_type": "code",
   "execution_count": 22,
   "id": "b32f5776",
   "metadata": {},
   "outputs": [],
   "source": [
    "def logistic_regression_dropout(av = 'selu'):\n",
    "    first_input = Input(shape=(55, number_of_measurements))\n",
    "    flatten_layer = tf.keras.layers.Flatten()(first_input)\n",
    "    dropout_layer = tf.keras.layers.Dropout(0.2)(flatten_layer)\n",
    "\n",
    "    output = Dense(55)(dropout_layer)\n",
    "\n",
    "\n",
    "    model = Model(inputs=first_input, outputs=output)\n",
    "    optim = keras.optimizers.Adam(learning_rate=0.0001)\n",
    "    \n",
    "    model.compile(optimizer=optim,\n",
    "                  loss='Huber')\n",
    "        \n",
    "    return model\n",
    "\n",
    "model_test = logistic_regression_dropout()"
   ]
  },
  {
   "cell_type": "code",
   "execution_count": 23,
   "id": "fdc7f1f4",
   "metadata": {},
   "outputs": [
    {
     "name": "stdout",
     "output_type": "stream",
     "text": [
      "Epoch 1/1000\n",
      "1000/1000 [==============================] - 3s 2ms/step - loss: 0.0633 - val_loss: 0.0344\n",
      "Epoch 2/1000\n",
      "1000/1000 [==============================] - 2s 2ms/step - loss: 0.0287 - val_loss: 0.0224\n",
      "Epoch 3/1000\n",
      "1000/1000 [==============================] - 2s 2ms/step - loss: 0.0157 - val_loss: 0.0174\n",
      "Epoch 4/1000\n",
      "1000/1000 [==============================] - 2s 2ms/step - loss: 0.0097 - val_loss: 0.0137\n",
      "Epoch 5/1000\n",
      "1000/1000 [==============================] - 2s 2ms/step - loss: 0.0062 - val_loss: 0.0113\n",
      "Epoch 6/1000\n",
      "1000/1000 [==============================] - 2s 2ms/step - loss: 0.0041 - val_loss: 0.0095\n",
      "Epoch 7/1000\n",
      "1000/1000 [==============================] - 2s 2ms/step - loss: 0.0029 - val_loss: 0.0092\n",
      "Epoch 8/1000\n",
      "1000/1000 [==============================] - 2s 2ms/step - loss: 0.0021 - val_loss: 0.0090\n",
      "Epoch 9/1000\n",
      "1000/1000 [==============================] - 2s 2ms/step - loss: 0.0016 - val_loss: 0.0061ETA: 1s  - ETA: 0s - loss - ETA: 0s - loss: 0.0\n",
      "Epoch 10/1000\n",
      "1000/1000 [==============================] - 2s 2ms/step - loss: 0.0014 - val_loss: 0.0087\n",
      "Epoch 11/1000\n",
      "1000/1000 [==============================] - 2s 2ms/step - loss: 0.0013 - val_loss: 0.0073\n",
      "Epoch 12/1000\n",
      "1000/1000 [==============================] - 2s 2ms/step - loss: 0.0014 - val_loss: 0.0106\n",
      "Epoch 13/1000\n",
      "1000/1000 [==============================] - 2s 2ms/step - loss: 0.0014 - val_loss: 0.0074\n",
      "Epoch 14/1000\n",
      "1000/1000 [==============================] - 2s 2ms/step - loss: 0.0013 - val_loss: 0.0080\n",
      "Epoch 15/1000\n",
      "1000/1000 [==============================] - 2s 2ms/step - loss: 0.0013 - val_loss: 0.0085\n",
      "Epoch 16/1000\n",
      "1000/1000 [==============================] - 2s 2ms/step - loss: 0.0014 - val_loss: 0.0110\n",
      "Epoch 17/1000\n",
      "1000/1000 [==============================] - 2s 2ms/step - loss: 0.0014 - val_loss: 0.0099\n",
      "Epoch 18/1000\n",
      "1000/1000 [==============================] - 2s 2ms/step - loss: 0.0014 - val_loss: 0.0068\n",
      "Epoch 19/1000\n",
      "1000/1000 [==============================] - 2s 2ms/step - loss: 0.0013 - val_loss: 0.0106\n",
      "Epoch 20/1000\n",
      "1000/1000 [==============================] - 2s 2ms/step - loss: 9.9926e-04 - val_loss: 0.0067\n",
      "Epoch 21/1000\n",
      "1000/1000 [==============================] - 2s 2ms/step - loss: 5.7890e-04 - val_loss: 0.0068\n",
      "Epoch 22/1000\n",
      "1000/1000 [==============================] - 2s 2ms/step - loss: 3.9245e-04 - val_loss: 0.0066\n",
      "Epoch 23/1000\n",
      "1000/1000 [==============================] - 2s 2ms/step - loss: 2.8438e-04 - val_loss: 0.0056\n",
      "Epoch 24/1000\n",
      "1000/1000 [==============================] - 2s 2ms/step - loss: 2.3485e-04 - val_loss: 0.0060\n",
      "Epoch 25/1000\n",
      "1000/1000 [==============================] - 2s 2ms/step - loss: 1.9314e-04 - val_loss: 0.0066\n",
      "Epoch 26/1000\n",
      "1000/1000 [==============================] - 2s 2ms/step - loss: 1.7497e-04 - val_loss: 0.0065\n",
      "Epoch 27/1000\n",
      "1000/1000 [==============================] - 2s 2ms/step - loss: 1.5566e-04 - val_loss: 0.0064 0s - loss: 1.5521e\n",
      "Epoch 28/1000\n",
      "1000/1000 [==============================] - 2s 2ms/step - loss: 1.5208e-04 - val_loss: 0.0071\n",
      "Epoch 29/1000\n",
      "1000/1000 [==============================] - 2s 2ms/step - loss: 1.4408e-04 - val_loss: 0.0074\n",
      "Epoch 30/1000\n",
      "1000/1000 [==============================] - 2s 2ms/step - loss: 1.4569e-04 - val_loss: 0.0074\n",
      "Epoch 31/1000\n",
      "1000/1000 [==============================] - 2s 2ms/step - loss: 1.3807e-04 - val_loss: 0.0071\n",
      "Epoch 32/1000\n",
      "1000/1000 [==============================] - 2s 2ms/step - loss: 1.3286e-04 - val_loss: 0.0069\n",
      "Epoch 33/1000\n",
      "1000/1000 [==============================] - 2s 2ms/step - loss: 1.4143e-04 - val_loss: 0.0074\n",
      "Epoch 34/1000\n",
      "1000/1000 [==============================] - 2s 2ms/step - loss: 1.2236e-04 - val_loss: 0.0067\n",
      "Epoch 35/1000\n",
      "1000/1000 [==============================] - 2s 2ms/step - loss: 1.1472e-04 - val_loss: 0.0068\n",
      "Epoch 36/1000\n",
      "1000/1000 [==============================] - 2s 2ms/step - loss: 1.1622e-04 - val_loss: 0.0070\n",
      "Epoch 37/1000\n",
      "1000/1000 [==============================] - 2s 2ms/step - loss: 1.1722e-04 - val_loss: 0.0069\n",
      "Epoch 38/1000\n",
      "1000/1000 [==============================] - 2s 2ms/step - loss: 1.1361e-04 - val_loss: 0.0069\n",
      "Epoch 39/1000\n",
      "1000/1000 [==============================] - 2s 2ms/step - loss: 1.1087e-04 - val_loss: 0.0070\n",
      "Epoch 40/1000\n",
      "1000/1000 [==============================] - 2s 2ms/step - loss: 1.1372e-04 - val_loss: 0.0070\n",
      "Epoch 41/1000\n",
      "1000/1000 [==============================] - 2s 2ms/step - loss: 1.0789e-04 - val_loss: 0.0069\n",
      "Epoch 42/1000\n",
      "1000/1000 [==============================] - 2s 2ms/step - loss: 1.0926e-04 - val_loss: 0.0069\n",
      "Epoch 43/1000\n",
      "1000/1000 [==============================] - 2s 2ms/step - loss: 1.1004e-04 - val_loss: 0.0069\n"
     ]
    }
   ],
   "source": [
    "history_test_test = model_test.fit(train_data,\n",
    "                    train_target,\n",
    "                    batch_size=32,\n",
    "                    epochs = 1000,\n",
    "                    #validation_data= (validation_data, validation_params),\n",
    "                    validation_split = 0.2,\n",
    "                    shuffle = True,\n",
    "                    callbacks=[prevent_overfitting, reduce_lr])"
   ]
  },
  {
   "cell_type": "code",
   "execution_count": 24,
   "id": "bc7060d9",
   "metadata": {},
   "outputs": [
    {
     "name": "stdout",
     "output_type": "stream",
     "text": [
      "tf.Tensor(550000.0, shape=(), dtype=float64)\n",
      "tf.Tensor(8114.161242161421, shape=(), dtype=float64)\n"
     ]
    }
   ],
   "source": [
    "pred_test = model_test.predict(validation_data)\n",
    "#score_test = scoringSystem(validation_params, pred_test)\n",
    "\n",
    "pred_final_test = unscaleMaxToOne(pred_test, min_target, max_target)\n",
    "score_test = scoringSystem(validation_params, pred_final_test)\n",
    "print(score_test)"
   ]
  },
  {
   "cell_type": "code",
   "execution_count": 25,
   "id": "b766719d",
   "metadata": {},
   "outputs": [
    {
     "data": {
      "text/plain": [
       "0.006956708896905184"
      ]
     },
     "execution_count": 25,
     "metadata": {},
     "output_type": "execute_result"
    }
   ],
   "source": [
    "last_five_idx = len(history_test_test.history[\"val_loss\"])-5\n",
    "sum(history_test_test.history[\"val_loss\"][last_five_idx:])/5"
   ]
  },
  {
   "cell_type": "code",
   "execution_count": null,
   "id": "e3abd50a",
   "metadata": {},
   "outputs": [],
   "source": []
  }
 ],
 "metadata": {
  "kernelspec": {
   "display_name": "Python 3",
   "language": "python",
   "name": "python3"
  },
  "language_info": {
   "codemirror_mode": {
    "name": "ipython",
    "version": 3
   },
   "file_extension": ".py",
   "mimetype": "text/x-python",
   "name": "python",
   "nbconvert_exporter": "python",
   "pygments_lexer": "ipython3",
   "version": "3.9.4"
  }
 },
 "nbformat": 4,
 "nbformat_minor": 5
}
