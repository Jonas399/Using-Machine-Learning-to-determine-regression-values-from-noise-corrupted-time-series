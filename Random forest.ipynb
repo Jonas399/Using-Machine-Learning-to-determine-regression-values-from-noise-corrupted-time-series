{
 "cells": [
  {
   "cell_type": "code",
   "execution_count": 1,
   "id": "ddb4113c",
   "metadata": {},
   "outputs": [
    {
     "name": "stdout",
     "output_type": "stream",
     "text": [
      "INFO:tensorflow:Enabling eager execution\n",
      "INFO:tensorflow:Enabling v2 tensorshape\n",
      "INFO:tensorflow:Enabling resource variables\n",
      "INFO:tensorflow:Enabling tensor equality\n",
      "INFO:tensorflow:Enabling control flow v2\n",
      "Rescaling targets with max = 0.6713607926990712\n"
     ]
    }
   ],
   "source": [
    "#Tensorflow\n",
    "import tensorflow as tf\n",
    "from tensorflow.keras import Sequential\n",
    "from tensorflow import keras\n",
    "from tensorflow.keras.models import Model\n",
    "from tensorflow.keras.models import load_model\n",
    "from tensorflow.keras import layers, activations\n",
    "from tensorflow.keras.layers import *\n",
    "from tensorflow.keras.optimizers import *\n",
    "from sklearn.ensemble import RandomForestRegressor\n",
    "\n",
    "#Pandas and numpy for data formats\n",
    "import pandas as pd\n",
    "import numpy as np\n",
    "\n",
    "\n",
    "#glob for data import\n",
    "import glob\n",
    "import random\n",
    "#PyTorch\n",
    "import torch\n",
    "import torch.nn as nn\n",
    "#SK Learn\n",
    "import sklearn as skl\n",
    "from sklearn.model_selection import train_test_split\n",
    "from sklearn import preprocessing\n",
    "from sklearn.preprocessing import StandardScaler\n",
    "#from sklearn.utils import shuffle\n",
    "import math\n",
    "import sys\n",
    "#MatPlotLib\n",
    "import matplotlib.pyplot as plt\n",
    "\n",
    "from models import simpleRegression\n",
    "from models import feedForward, sequentialModel, sequentialDropout, lstmModel, cnnModel, cnnModelFilters, scoringSystem\n",
    "\n",
    "#import functions\n",
    "from dataImport import importTrainingData, importParamsData, importTestData, importTrainParameter, importTargetParameter, importEvalParameter\n",
    "from preprocessing import preprocessData, createTrainTensors, createParamsTensors, preprocessParams, rescaleData, preprocessParameters\n",
    "\n",
    "\n",
    "#importTrainData()\n",
    "train_data = np.load(\"../train_40000.npy\")\n",
    "params_data = np.load(\"../train_target_40000.npy\")\n",
    "train_parameter = np.load(\"../train_parameter_40000.npy\")\n",
    "#\n",
    "validation_data = np.load(\"../val_train_40000.npy\")\n",
    "validation_params = np.load(\"../val_target_40000.npy\")\n",
    "validation_parameter = np.load(\"../val_parameter_40000.npy\")\n",
    "\n",
    "#Create stats for zScore\n",
    "mean_value_target = np.mean(params_data)\n",
    "standard_deviation_target = np.std(params_data)\n",
    "\n",
    "mean_value = np.mean(train_data)\n",
    "standard_deviation = np.std(train_data)\n",
    "measurements_to_remove = 30\n",
    "\n",
    "\n",
    "median_train = False\n",
    "replaceValuesBiggerOne_train=False\n",
    "replaceFirstXValues_train=False\n",
    "removeFirstXValues_train=True\n",
    "normalizeData_train=False\n",
    "zScore_train=True\n",
    "\n",
    "train_data = preprocessData(train_data,\n",
    "                          median=median_train,\n",
    "                          replaceValuesBiggerOne = replaceValuesBiggerOne_train,\n",
    "                          replaceFirstXValues = replaceFirstXValues_train,\n",
    "                          removeFirstXValues = removeFirstXValues_train,\n",
    "                          normalizeData = normalizeData_train,\n",
    "                          zScore = zScore_train,\n",
    "                          zScore_mean = mean_value,\n",
    "                          zScore_sd = standard_deviation,\n",
    "                          number_to_remove = measurements_to_remove)\n",
    "\n",
    "train_target = preprocessData(params_data,\n",
    "                          median=False,\n",
    "                          replaceValuesBiggerOne=False,\n",
    "                          replaceFirstXValues=False,\n",
    "                          removeFirstXValues=False,\n",
    "                          normalizeData=False,\n",
    "                          zScore=False,\n",
    "                          zScore_mean=mean_value_target,\n",
    "                          zScore_sd=standard_deviation_target,\n",
    "                          number_to_remove=measurements_to_remove)\n",
    "\n",
    "validation_data = preprocessData(validation_data,\n",
    "                          median = median_train,\n",
    "                          replaceValuesBiggerOne = replaceValuesBiggerOne_train,\n",
    "                          replaceFirstXValues = replaceFirstXValues_train,\n",
    "                          removeFirstXValues = removeFirstXValues_train,\n",
    "                          normalizeData = normalizeData_train,\n",
    "                          zScore = zScore_train,\n",
    "                          zScore_mean = mean_value,\n",
    "                          zScore_sd = standard_deviation,\n",
    "                          number_to_remove = measurements_to_remove)\n",
    "\n",
    "validation_target = preprocessData(validation_params,\n",
    "                          median=False,\n",
    "                          replaceValuesBiggerOne=False,\n",
    "                          replaceFirstXValues=False,\n",
    "                          removeFirstXValues=False,\n",
    "                          normalizeData=False,\n",
    "                          zScore=False,\n",
    "                          zScore_mean=mean_value_target,\n",
    "                          zScore_sd=standard_deviation_target,\n",
    "                          number_to_remove=measurements_to_remove)\n",
    "\n",
    "\n",
    "number_of_measurements = 300\n",
    "if removeFirstXValues_train == True:\n",
    "    number_of_measurements = 300 - measurements_to_remove    \n",
    "    \n",
    "#reshaping train data\n",
    "if type(train_data) != np.ndarray:\n",
    "    train_data = train_data.to_numpy().reshape(-1, 55, number_of_measurements)\n",
    "else:\n",
    "    train_data = train_data.reshape(-1, 55, number_of_measurements)\n",
    "\n",
    "#reshaping target data\n",
    "if type(params_data) != np.ndarray:\n",
    "    params_data = params_data.to_numpy()\n",
    "\n",
    "#reshaping val data\n",
    "if type(validation_data) != np.ndarray:\n",
    "    validation_data = validation_data.to_numpy().reshape(-1, 55, number_of_measurements)\n",
    "else:    \n",
    "    validation_data = validation_data.reshape(-1, 55, number_of_measurements)\n",
    "\n",
    "#reshaping val target\n",
    "if type(validation_params) != np.ndarray:\n",
    "    validation_params = validation_params.to_numpy()\n",
    "\n",
    "    \n",
    "def scaleToMaxToOne(dat, min, max):\n",
    "    scaled_dat = dat / max\n",
    "    return scaled_dat\n",
    "\n",
    "def unscaleMaxToOne(scaled_dat, min, max):\n",
    "    unscaled_dat = scaled_dat * max\n",
    "    return unscaled_dat\n",
    "\n",
    "min_target = np.min(train_target) \n",
    "max_target = np.max(train_target)\n",
    "print(f\"Rescaling targets with max = {max_target}\")\n",
    "train_target = scaleToMaxToOne(train_target, min_target, max_target)\n",
    "val_target = scaleToMaxToOne(validation_target, min_target, max_target)    \n",
    "\n",
    "prevent_overfitting = keras.callbacks.EarlyStopping(monitor=\"val_loss\", patience = 20, restore_best_weights=True)\n",
    "reduce_lr = keras.callbacks.ReduceLROnPlateau(monitor='val_loss', patience=10, min_delta=0.0001)"
   ]
  },
  {
   "cell_type": "code",
   "execution_count": 2,
   "id": "15edc9d7",
   "metadata": {},
   "outputs": [],
   "source": [
    "train_data_reshaped = train_data.reshape(2200000, 270)"
   ]
  },
  {
   "cell_type": "code",
   "execution_count": 3,
   "id": "9cf913da",
   "metadata": {},
   "outputs": [],
   "source": [
    "train_target_reshaped = train_target.reshape(2200000)"
   ]
  },
  {
   "cell_type": "code",
   "execution_count": 4,
   "id": "cfbb02be",
   "metadata": {},
   "outputs": [],
   "source": [
    "validation_data_reshaped = validation_data.reshape(550000, 270)"
   ]
  },
  {
   "cell_type": "markdown",
   "id": "d71fd68f",
   "metadata": {},
   "source": [
    "# Model 1"
   ]
  },
  {
   "cell_type": "code",
   "execution_count": null,
   "id": "243b5f5f",
   "metadata": {},
   "outputs": [
    {
     "name": "stderr",
     "output_type": "stream",
     "text": [
      "[Parallel(n_jobs=12)]: Using backend ThreadingBackend with 12 concurrent workers.\n"
     ]
    }
   ],
   "source": [
    "rfr = RandomForestRegressor(n_estimators = 100, verbose=1, n_jobs = 12)\n",
    "\n",
    "rfrModel = rfr.fit(train_data_reshaped, train_target_reshaped)"
   ]
  },
  {
   "cell_type": "code",
   "execution_count": null,
   "id": "cdf598fb",
   "metadata": {},
   "outputs": [],
   "source": [
    "pred = rfrModel.predict(validation_data)\n",
    "#pred = pred * standard_deviation_target + mean_value_target \n",
    "\n",
    "\n",
    "pred_final = unscaleMaxToOne(pred, min_target, max_target)\n",
    "score = scoringSystem(validation_params, pred_final)\n",
    "print(score)"
   ]
  },
  {
   "cell_type": "markdown",
   "id": "c44dd422",
   "metadata": {},
   "source": [
    "# Model 2"
   ]
  },
  {
   "cell_type": "code",
   "execution_count": null,
   "id": "1d543faf",
   "metadata": {},
   "outputs": [],
   "source": [
    "rfr2 = RandomForestRegressor(n_estimators = 100, verbose=1, n_jobs = 12)\n",
    "\n",
    "rfrModel2 = rfr2.fit(train_data_reshaped, train_target_reshaped)"
   ]
  },
  {
   "cell_type": "code",
   "execution_count": null,
   "id": "5ffd75e9",
   "metadata": {},
   "outputs": [],
   "source": [
    "pred2 = rfrModel2.predict(validation_data)\n",
    "#pred = pred * standard_deviation_target + mean_value_target \n",
    "\n",
    "\n",
    "pred_final2 = unscaleMaxToOne(pred2, min_target, max_target)\n",
    "score2 = scoringSystem(validation_params, pred_final2)\n",
    "print(score2)"
   ]
  },
  {
   "cell_type": "markdown",
   "id": "fe3cafd6",
   "metadata": {},
   "source": [
    "# Model 3"
   ]
  },
  {
   "cell_type": "code",
   "execution_count": null,
   "id": "3b058e0d",
   "metadata": {},
   "outputs": [],
   "source": [
    "rfr3 = RandomForestRegressor(n_estimators = 100, verbose=1, n_jobs = 12)\n",
    "\n",
    "rfrModel3 = rfr3.fit(train_data_reshaped, train_target_reshaped)"
   ]
  },
  {
   "cell_type": "code",
   "execution_count": null,
   "id": "6309e90c",
   "metadata": {},
   "outputs": [],
   "source": [
    "pred3 = rfrModel3.predict(validation_data)\n",
    "#pred = pred * standard_deviation_target + mean_value_target \n",
    "\n",
    "\n",
    "pred_final3 = unscaleMaxToOne(pred3, min_target, max_target)\n",
    "score3 = scoringSystem(validation_params, pred_final3)\n",
    "print(score3)"
   ]
  }
 ],
 "metadata": {
  "kernelspec": {
   "display_name": "Python 3",
   "language": "python",
   "name": "python3"
  },
  "language_info": {
   "codemirror_mode": {
    "name": "ipython",
    "version": 3
   },
   "file_extension": ".py",
   "mimetype": "text/x-python",
   "name": "python",
   "nbconvert_exporter": "python",
   "pygments_lexer": "ipython3",
   "version": "3.9.4"
  }
 },
 "nbformat": 4,
 "nbformat_minor": 5
}
